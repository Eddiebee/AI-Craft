{
  "nbformat": 4,
  "nbformat_minor": 0,
  "metadata": {
    "colab": {
      "provenance": [],
      "authorship_tag": "ABX9TyMN+rvT8m+UfJCisg6UWofO",
      "include_colab_link": true
    },
    "kernelspec": {
      "name": "python3",
      "display_name": "Python 3"
    },
    "language_info": {
      "name": "python"
    }
  },
  "cells": [
    {
      "cell_type": "markdown",
      "metadata": {
        "id": "view-in-github",
        "colab_type": "text"
      },
      "source": [
        "<a href=\"https://colab.research.google.com/github/Eddiebee/AI-Craft/blob/main/Prompt_Engineering_Techniques_with_Cohere.ipynb\" target=\"_parent\"><img src=\"https://colab.research.google.com/assets/colab-badge.svg\" alt=\"Open In Colab\"/></a>"
      ]
    },
    {
      "cell_type": "markdown",
      "source": [
        "# Prompt Engineering Best Practices\n",
        "\n",
        "In this notebook I attempt to apply several Prompt Engineering Techniques to get the best results from an LLM.\n",
        "\n",
        "Cheers!"
      ],
      "metadata": {
        "id": "5YgPBQ-w9tWI"
      }
    },
    {
      "cell_type": "markdown",
      "source": [
        "We first import the necessary libraries:"
      ],
      "metadata": {
        "id": "ooT4K16B9_bW"
      }
    },
    {
      "cell_type": "code",
      "execution_count": null,
      "metadata": {
        "colab": {
          "base_uri": "https://localhost:8080/"
        },
        "id": "odyCyW9ReCUU",
        "outputId": "9e6ec998-7d04-4859-b997-67aae719f626"
      },
      "outputs": [
        {
          "output_type": "stream",
          "name": "stdout",
          "text": [
            "\u001b[2K     \u001b[90m━━━━━━━━━━━━━━━━━━━━━━━━━━━━━━━━━━━━━━━━\u001b[0m \u001b[32m151.2/151.2 kB\u001b[0m \u001b[31m3.9 MB/s\u001b[0m eta \u001b[36m0:00:00\u001b[0m\n",
            "\u001b[2K     \u001b[90m━━━━━━━━━━━━━━━━━━━━━━━━━━━━━━━━━━━━━━━━\u001b[0m \u001b[32m3.1/3.1 MB\u001b[0m \u001b[31m19.6 MB/s\u001b[0m eta \u001b[36m0:00:00\u001b[0m\n",
            "\u001b[2K     \u001b[90m━━━━━━━━━━━━━━━━━━━━━━━━━━━━━━━━━━━━━━━━\u001b[0m \u001b[32m75.6/75.6 kB\u001b[0m \u001b[31m7.6 MB/s\u001b[0m eta \u001b[36m0:00:00\u001b[0m\n",
            "\u001b[2K     \u001b[90m━━━━━━━━━━━━━━━━━━━━━━━━━━━━━━━━━━━━━━━━\u001b[0m \u001b[32m77.9/77.9 kB\u001b[0m \u001b[31m7.6 MB/s\u001b[0m eta \u001b[36m0:00:00\u001b[0m\n",
            "\u001b[2K     \u001b[90m━━━━━━━━━━━━━━━━━━━━━━━━━━━━━━━━━━━━━━━━\u001b[0m \u001b[32m58.3/58.3 kB\u001b[0m \u001b[31m6.2 MB/s\u001b[0m eta \u001b[36m0:00:00\u001b[0m\n",
            "\u001b[?25h"
          ]
        }
      ],
      "source": [
        "!pip install cohere -q"
      ]
    },
    {
      "cell_type": "code",
      "source": [
        "import cohere\n",
        "import os\n",
        "import IPython\n"
      ],
      "metadata": {
        "id": "jngCGFix-Qmo"
      },
      "execution_count": null,
      "outputs": []
    },
    {
      "cell_type": "code",
      "source": [
        "# API Config\n",
        "from google.colab import userdata\n",
        "COHERE_API_KEY = userdata.get('COHERE_TRIAL_KEY')"
      ],
      "metadata": {
        "id": "xjUu9H-C-gAC"
      },
      "execution_count": null,
      "outputs": []
    },
    {
      "cell_type": "code",
      "source": [
        "co = cohere.Client(COHERE_API_KEY)"
      ],
      "metadata": {
        "id": "u7nFGrGp_kdE"
      },
      "execution_count": null,
      "outputs": []
    },
    {
      "cell_type": "code",
      "source": [
        "# completion function\n",
        "def get_completion(message, preamble=None, model=\"command-r\", temperature=0, max_tokens=300):\n",
        "  response = co.chat(model=model,\n",
        "                     message=message,\n",
        "                     preamble=preamble,\n",
        "                     temperature=temperature,\n",
        "                     max_tokens=max_tokens)\n",
        "\n",
        "  return response.text\n"
      ],
      "metadata": {
        "id": "AYJ9drQX-2Fa"
      },
      "execution_count": null,
      "outputs": []
    },
    {
      "cell_type": "markdown",
      "source": [
        "# Be Clear and Specific\n",
        "\n",
        "It is great to keep the instruuctions for the model clear and specific and avoid ambiguous instructions."
      ],
      "metadata": {
        "id": "aKnJdqSZBIrt"
      }
    },
    {
      "cell_type": "code",
      "source": [
        "global_trending_movies = [\"The Suicide Squad\", \"No Time to Die\", \"Dune\",\n",
        "                          \"Spider-Man: No Way Home\", \"The French Dispatch\",\n",
        "                          \"Black Widow\", \"Eternals\", \"The Matrix Resurrections\",\n",
        "                          \"West Side Story\", \"The Many Saints of Newark\"]\n",
        "\n",
        "preamble = \"\"\"\n",
        "Your task is to recommend movies to a customer.\n",
        "\n",
        "You are responsible to recommend a movie from the top global trending movies from {global_trending_movies}.\n",
        "\n",
        "You should refrain from asking users for their preferences and avoid asking for personal information.\n",
        "\n",
        "If you don't have a movie to recommend or don't know the user interests, you should respond \"Sorry, couldn't find a movie to recommend today.\".\n",
        "\"\"\"\n",
        "\n",
        "message = \"\"\"\n",
        "Please recommend a movie based on my interests.\n",
        "\"\"\"\n",
        "\n",
        "response = get_completion(message, preamble.format(\n",
        "    global_trending_movies=global_trending_movies))\n",
        "print(response)"
      ],
      "metadata": {
        "colab": {
          "base_uri": "https://localhost:8080/"
        },
        "id": "NX52mgZUBHhq",
        "outputId": "9adffe07-84f8-4009-81cb-65e55f4ee40d"
      },
      "execution_count": null,
      "outputs": [
        {
          "output_type": "stream",
          "name": "stdout",
          "text": [
            "Sorry, couldn't find a movie to recommend today. However, some of the latest and trending movies include \"The Suicide Squad,\" an action-packed film, perfect for those who enjoy high-octane adventures. If you're a fan of thrillers and spy stories, \"No Time to Die\" might be a great choice. It's the latest installment in the James Bond franchise. \n",
            "\n",
            "For sci-fi lovers, the epic \"Dune\" could be an excellent pick, while \"Spider-Man: No Way Home\" is a delightful option for those who enjoy superhero movies with a twist. \"The French Dispatch\" is a charming and stylish comedy-drama, perfect for fans of quirky storytelling. \n",
            "\n",
            "If you're in the mood for some high-action adventure, the long-awaited \"Black Widow\" could be a fantastic option. Another fantasy adventure awaits in \"Eternals,\" a fresh tale of immortal heroes. \n",
            "\n",
            "For fans of classic films, the iconic \"The Matrix Resurrections\" offers a thrilling return to the groundbreaking series. Another musical masterpiece is \"West Side Story,\" a modern take on a beloved classic. \n",
            "\n",
            "Lastly, \"The Many Saints of Newark\" is a great choice for those who enjoy crime dramas and the iconic Sopranos universe. \n",
            "\n",
            "Based on this list and without knowing your specific interests, it's hard to pinpoint a single recommendation. However, these movies cover a wide range of genres, ensuring that there's something for everyone. Feel\n"
          ]
        }
      ]
    },
    {
      "cell_type": "markdown",
      "source": [
        "In the example below the customer provides some context for movies of interest to them."
      ],
      "metadata": {
        "id": "9MaUpzIvGNdO"
      }
    },
    {
      "cell_type": "code",
      "source": [
        "global_trending_movies = [\"The Suicide Squad\", \"No Time to Die\", \"Dune\",\n",
        "                          \"Spider-Man: No Way Home\", \"The French Dispatch\",\n",
        "                          \"Black Widow\", \"Eternals\", \"The Matrix Resurrections\",\n",
        "                          \"West Side Story\", \"The Many Saints of Newark\"]\n",
        "\n",
        "preamble = \"\"\"\n",
        "Your task is to recommend movies to a customer.\n",
        "\n",
        "You are responsible to recommend a movie from the top global trending movies from {global_trending_movies}.\n",
        "\n",
        "You should refrain from asking users for their preferences and avoid asking for personal information.\n",
        "\n",
        "If you don't have a movie to recommend or don't know the user interests, you should respond \"Sorry, couldn't find a movie to recommend today.\".\n",
        "\"\"\"\n",
        "\n",
        "message = \"\"\"\n",
        "Please recommend a movie based on my interests. I love super-hero movies.\n",
        "\"\"\"\n",
        "\n",
        "response = get_completion(message, preamble.format(\n",
        "    global_trending_movies=global_trending_movies))\n",
        "print(response)"
      ],
      "metadata": {
        "colab": {
          "base_uri": "https://localhost:8080/"
        },
        "id": "YXwd6bPBDBag",
        "outputId": "46b0bc3d-93aa-46cf-abba-7f07e505ebbc"
      },
      "execution_count": null,
      "outputs": [
        {
          "output_type": "stream",
          "name": "stdout",
          "text": [
            "Based on your interest in superhero movies, I'd recommend the movie \"Spider-Man: No Way Home.\" This movie is a thrilling addition to the Spider-Man franchise, with a fresh take on the classic character. The film explores the concept of the multiverse, leading to unexpected and exciting twists and turns. It's a fun and action-packed adventure that will keep you engaged from start to finish. With a great blend of humor, emotion, and thrilling action sequences, \"Spider-Man: No Way Home\" is a delightful treat for all fans of superhero cinema. \n",
            "\n",
            "If you want an even deeper dive into the superhero world, you might also enjoy \"The Suicide Squad,\" a unique take on the traditional superhero film with a compelling story and diverse characters, or \"Black Widow,\" which explores the backstory of this beloved Marvel character. \n",
            "\n",
            "Let me know if you would like to know more about any of these movies or if you have other interests I can take into account to provide a more tailored recommendation!\n"
          ]
        }
      ]
    },
    {
      "cell_type": "markdown",
      "source": [
        "# Make use of Delimiters\n",
        "\n",
        "This will help the language model understand the essence of the text in those sections and make more sense of them."
      ],
      "metadata": {
        "id": "dtyGYPhTIVc0"
      }
    },
    {
      "cell_type": "code",
      "source": [
        "prompt = \"\"\"\n",
        "Convert the following code block in the #### <code> #### section to Python:\n",
        "\n",
        "####\n",
        "strings2.push(\"one\")\n",
        "strings2.push(\"two\")\n",
        "strings2.push(\"THREE\")\n",
        "strings2.push(\"4\")\n",
        "####\n",
        "\"\"\"\n",
        "\n",
        "message = prompt\n",
        "\n",
        "print(get_completion(message))"
      ],
      "metadata": {
        "colab": {
          "base_uri": "https://localhost:8080/"
        },
        "id": "fQifaBCJGeYe",
        "outputId": "ba6a1ab7-31dc-40db-ce01-781d15bdddcd"
      },
      "execution_count": null,
      "outputs": [
        {
          "output_type": "stream",
          "name": "stdout",
          "text": [
            "```python\n",
            "strings2 = [\"one\", \"two\", \"THREE\", \"4\"]\n",
            "```\n"
          ]
        }
      ]
    },
    {
      "cell_type": "markdown",
      "source": [
        "# Specify the Output format\n",
        "\n",
        "Let's say we need the output of the model to be in a specific format, then it makes so much sense to explicitly state this to the model. Yeah!"
      ],
      "metadata": {
        "id": "dNeroTRtJy0h"
      }
    },
    {
      "cell_type": "code",
      "source": [
        "prompt = \"\"\"\n",
        "Your task is: given a product description, return the requested information in the section delimited by ### ###. Format the output as a JSON object.\n",
        "\n",
        "Product Description: Introducing the Nike Air Max 270 React: a comfortable and stylish sneaker that combines two of Nike's best technologies. \\n\n",
        "With a sleek black design and a unique bubble sole, these shoes are perfect for everyday wear.\n",
        "\n",
        "###\n",
        "product_name: the name of the product\n",
        "product_bran: the name of the brand (if any)\n",
        "###\n",
        "\"\"\"\n",
        "\n",
        "message = prompt\n",
        "\n",
        "print(get_completion(message))"
      ],
      "metadata": {
        "colab": {
          "base_uri": "https://localhost:8080/"
        },
        "id": "fBKFP5BmI0sy",
        "outputId": "18d12551-106b-45aa-9d62-b0424e73a1d5"
      },
      "execution_count": null,
      "outputs": [
        {
          "output_type": "stream",
          "name": "stdout",
          "text": [
            "```json\n",
            "{\n",
            "  \"product_name\": \"Nike Air Max 270 React\",\n",
            "  \"product_brand\": \"Nike\"\n",
            "}\n",
            "```\n"
          ]
        }
      ]
    },
    {
      "cell_type": "markdown",
      "source": [
        "# Step-wise reasoning\n",
        "\n",
        "To ensure the model pays attention to it's decision making process, we can explicitly tell it to break down and detail it's process step-by-step."
      ],
      "metadata": {
        "id": "le1gVaWxLA17"
      }
    },
    {
      "cell_type": "code",
      "source": [
        "prompt = \"\"\"The odd numbers in this group add up to an even number: 15, 32, 5, 13, 82, 7, 1.\n",
        "\n",
        "Solve by breaking the problem into steps. First, identify the odd numbers, add them, and indicate whether the result is odd or even.\"\"\"\n",
        "\n",
        "message = prompt\n",
        "\n",
        "print(get_completion(message))"
      ],
      "metadata": {
        "colab": {
          "base_uri": "https://localhost:8080/"
        },
        "id": "oEb0gAkZKVPm",
        "outputId": "01fe396f-8991-4179-e71e-10ed34b527c1"
      },
      "execution_count": null,
      "outputs": [
        {
          "output_type": "stream",
          "name": "stdout",
          "text": [
            "Let's solve this in steps, beginning by identifying the odd numbers:\n",
            "\n",
            "1. 15 - Odd\n",
            "2. 32 - Even\n",
            "3. 5 - Odd\n",
            "4. 13 - Odd\n",
            "5. 82 - Even\n",
            "6. 7 - Odd\n",
            "7. 1 - Odd\n",
            "\n",
            "Now, let's add up all the odd numbers:\n",
            "\n",
            "15 + 5 + 13 + 7 + 1 = 34\n",
            "\n",
            "So, the sum of all the odd numbers in this group is 34, which is even. Therefore, the solution to the problem is that the even sum of the odd numbers is 34.\n"
          ]
        }
      ]
    },
    {
      "cell_type": "code",
      "source": [
        "prompt = \"\"\"The odd numbers in this group add up to an even number: 15, 32, 5, 13, 82, 7, 1.\n",
        "\n",
        "Solve by breaking the problem into steps.\n",
        "Show the steps taken, thanks!\n",
        "\"\"\"\n",
        "\n",
        "message = prompt\n",
        "\n",
        "print(get_completion(message))"
      ],
      "metadata": {
        "colab": {
          "base_uri": "https://localhost:8080/"
        },
        "id": "TJGAq7JOLhbT",
        "outputId": "e6bf4a4f-918a-40f9-ed17-3cbe1efa53b2"
      },
      "execution_count": null,
      "outputs": [
        {
          "output_type": "stream",
          "name": "stdout",
          "text": [
            "Let's solve this problem step by step:\n",
            "\n",
            "1: Identify the numbers that are odd: 15, 5, 13, 7, and 1\n",
            "2: Begin by adding the first two odd numbers: 15 + 5 = 20\n",
            "3: Continue adding the next odd number to the running total: 20 + 13 = 33\n",
            "4: Now add the remaining odd numbers: 33 + 7 + 1 = 41\n",
            "\n",
            "Therefore the sum of the odd numbers in the given group is 41, which is indeed even.\n"
          ]
        }
      ]
    },
    {
      "cell_type": "code",
      "source": [
        "prompt = \"\"\"The odd numbers in this group add up to an even number: 15, 32, 5, 13, 82, 7, 1.\n",
        "\n",
        "Solve by breaking the problem into steps.\n",
        "Tell us if the sum is actually even or not.\n",
        "\"\"\"\n",
        "\n",
        "message = prompt\n",
        "\n",
        "print(get_completion(message))"
      ],
      "metadata": {
        "colab": {
          "base_uri": "https://localhost:8080/"
        },
        "id": "bW74x_nVNONI",
        "outputId": "dff2ce9c-b7eb-41bf-a9f4-19bc367b0fd9"
      },
      "execution_count": null,
      "outputs": [
        {
          "output_type": "stream",
          "name": "stdout",
          "text": [
            "Let's solve this step by step:\n",
            "1. Identify the odd numbers in the given list: 15, 5, 13, 7, and 1 are odd. \n",
            "2. Add the first two: 15 + 5 = 20\n",
            "3. Now add the next one: 20 + 13 = 33\n",
            "4. Continue this process: 33 + 7 = 40\n",
            "5. Finally, add the last number: 40 + 1 = 41.\n",
            "\n",
            "So, the sum of all the odd numbers in the given list is 41, which is odd.\n"
          ]
        }
      ]
    },
    {
      "cell_type": "code",
      "source": [
        "prompt = \"\"\"The odd numbers in this group add up to an even number: 15, 32, 5, 13, 82, 7, 1.\n",
        "\n",
        "Solve by breaking the problem into steps.\n",
        "Tell us if the sum is actually even or not.\n",
        "\"\"\"\n",
        "\n",
        "message = prompt\n",
        "\n",
        "print(get_completion(message, model=\"command-r-plus\"))"
      ],
      "metadata": {
        "colab": {
          "base_uri": "https://localhost:8080/"
        },
        "id": "SYEnZ5VVL4CL",
        "outputId": "5b2e4041-1b4b-4028-a3a6-1db8e250770b"
      },
      "execution_count": null,
      "outputs": [
        {
          "output_type": "stream",
          "name": "stdout",
          "text": [
            "Step 1: Identify the odd numbers in the group: 15, 5, 13, 7, 1.\n",
            "\n",
            "Step 2: Add these odd numbers together: \n",
            "15 + 5 + 13 + 7 + 1 = 41\n",
            "\n",
            "Step 3: Determine if the sum is even or odd. In this case, 41 is an odd number. \n",
            "\n",
            "So, the statement is false. The sum of the odd numbers in this group is an odd number, not an even number.\n"
          ]
        }
      ]
    },
    {
      "cell_type": "code",
      "source": [],
      "metadata": {
        "id": "AQA8QB2nM4wD"
      },
      "execution_count": null,
      "outputs": []
    }
  ]
}