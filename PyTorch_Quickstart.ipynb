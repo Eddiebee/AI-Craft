{
  "nbformat": 4,
  "nbformat_minor": 0,
  "metadata": {
    "colab": {
      "provenance": [],
      "gpuType": "T4",
      "authorship_tag": "ABX9TyMm46vXSPuaz8xJImtyUDnu",
      "include_colab_link": true
    },
    "kernelspec": {
      "name": "python3",
      "display_name": "Python 3"
    },
    "language_info": {
      "name": "python"
    },
    "accelerator": "GPU"
  },
  "cells": [
    {
      "cell_type": "markdown",
      "metadata": {
        "id": "view-in-github",
        "colab_type": "text"
      },
      "source": [
        "<a href=\"https://colab.research.google.com/github/Eddiebee/AI-Craft/blob/main/PyTorch_Quickstart.ipynb\" target=\"_parent\"><img src=\"https://colab.research.google.com/assets/colab-badge.svg\" alt=\"Open In Colab\"/></a>"
      ]
    },
    {
      "cell_type": "markdown",
      "source": [
        "This notebook aims to gain familiarity with the PyTorch API for common Machine Learning tasks."
      ],
      "metadata": {
        "id": "OkCCzmg3tZY_"
      }
    },
    {
      "cell_type": "markdown",
      "source": [
        "### Working with Data\n",
        "\n",
        "The PyTorch API exposes two primitives to use while working with data; `torch.utils.data.DataLoader` and `torch.utils.data.Dataset`.\n",
        "\n",
        "`Dataset` stores the samples and their corresponding labels, whereas `DataLoader` wraps an iterable around the `Dataset`."
      ],
      "metadata": {
        "id": "fFP_LEzStZV8"
      }
    },
    {
      "cell_type": "code",
      "execution_count": 2,
      "metadata": {
        "id": "TobujIwYtQJb"
      },
      "outputs": [],
      "source": [
        "import torch\n",
        "from torch import nn\n",
        "from torch.utils.data import DataLoader\n",
        "from torchvision import datasets\n",
        "from torchvision.transforms import ToTensor"
      ]
    },
    {
      "cell_type": "markdown",
      "source": [
        "In this notebook we'll be using the FashionMNIST dataset. Every TorchVision `Dataset` includes two arguments: `transform` and `target_transform` to modify the samples and labels respectively."
      ],
      "metadata": {
        "id": "Q4uTravfxMFL"
      }
    },
    {
      "cell_type": "code",
      "source": [
        "# Downloading training data from open datasets.\n",
        "training_data = datasets.FashionMNIST(\n",
        "    root=\"data\",\n",
        "    train=True,\n",
        "    download=True,\n",
        "    transform=ToTensor(),)\n",
        "\n",
        "# Downloading test data from open datasets.\n",
        "test_data = datasets.FashionMNIST(\n",
        "    root=\"data\",\n",
        "    train=False,\n",
        "    download=True,\n",
        "    transform=ToTensor(),)"
      ],
      "metadata": {
        "colab": {
          "base_uri": "https://localhost:8080/"
        },
        "id": "E-DVoxECvG0L",
        "outputId": "af46548b-8e12-4234-c92e-0f5121ae3ecd"
      },
      "execution_count": 3,
      "outputs": [
        {
          "output_type": "stream",
          "name": "stdout",
          "text": [
            "Downloading http://fashion-mnist.s3-website.eu-central-1.amazonaws.com/train-images-idx3-ubyte.gz\n",
            "Downloading http://fashion-mnist.s3-website.eu-central-1.amazonaws.com/train-images-idx3-ubyte.gz to data/FashionMNIST/raw/train-images-idx3-ubyte.gz\n"
          ]
        },
        {
          "output_type": "stream",
          "name": "stderr",
          "text": [
            "100%|██████████| 26421880/26421880 [00:00<00:00, 34655555.57it/s]\n"
          ]
        },
        {
          "output_type": "stream",
          "name": "stdout",
          "text": [
            "Extracting data/FashionMNIST/raw/train-images-idx3-ubyte.gz to data/FashionMNIST/raw\n",
            "\n",
            "Downloading http://fashion-mnist.s3-website.eu-central-1.amazonaws.com/train-labels-idx1-ubyte.gz\n",
            "Downloading http://fashion-mnist.s3-website.eu-central-1.amazonaws.com/train-labels-idx1-ubyte.gz to data/FashionMNIST/raw/train-labels-idx1-ubyte.gz\n"
          ]
        },
        {
          "output_type": "stream",
          "name": "stderr",
          "text": [
            "100%|██████████| 29515/29515 [00:00<00:00, 4571450.61it/s]\n"
          ]
        },
        {
          "output_type": "stream",
          "name": "stdout",
          "text": [
            "Extracting data/FashionMNIST/raw/train-labels-idx1-ubyte.gz to data/FashionMNIST/raw\n",
            "\n",
            "Downloading http://fashion-mnist.s3-website.eu-central-1.amazonaws.com/t10k-images-idx3-ubyte.gz\n",
            "Downloading http://fashion-mnist.s3-website.eu-central-1.amazonaws.com/t10k-images-idx3-ubyte.gz to data/FashionMNIST/raw/t10k-images-idx3-ubyte.gz\n"
          ]
        },
        {
          "output_type": "stream",
          "name": "stderr",
          "text": [
            "100%|██████████| 4422102/4422102 [00:00<00:00, 43299592.18it/s]\n"
          ]
        },
        {
          "output_type": "stream",
          "name": "stdout",
          "text": [
            "Extracting data/FashionMNIST/raw/t10k-images-idx3-ubyte.gz to data/FashionMNIST/raw\n",
            "\n",
            "Downloading http://fashion-mnist.s3-website.eu-central-1.amazonaws.com/t10k-labels-idx1-ubyte.gz\n",
            "Downloading http://fashion-mnist.s3-website.eu-central-1.amazonaws.com/t10k-labels-idx1-ubyte.gz to data/FashionMNIST/raw/t10k-labels-idx1-ubyte.gz\n"
          ]
        },
        {
          "output_type": "stream",
          "name": "stderr",
          "text": [
            "100%|██████████| 5148/5148 [00:00<00:00, 11684132.57it/s]\n"
          ]
        },
        {
          "output_type": "stream",
          "name": "stdout",
          "text": [
            "Extracting data/FashionMNIST/raw/t10k-labels-idx1-ubyte.gz to data/FashionMNIST/raw\n",
            "\n"
          ]
        }
      ]
    },
    {
      "cell_type": "markdown",
      "source": [
        "We pass the `Dataset` as argument to the `DataLoader`. The `DataLoader` wraps an iterable over the `Dataset` which enables it to support features as:\n",
        "\n",
        "- automatic batching\n",
        "- sampling\n",
        "- shuffling and\n",
        "- multiprocess data loading\n",
        "\n",
        "Defining a batch size of 64 means that each element in the dataloader will return a batch of 64 features and labels."
      ],
      "metadata": {
        "id": "adAtOOzozCDq"
      }
    },
    {
      "cell_type": "code",
      "source": [
        "batch_size = 64\n",
        "\n",
        "# Create dataloaders\n",
        "train_dataloader = DataLoader(training_data, batch_size=batch_size)\n",
        "test_dataloader = DataLoader(test_data, batch_size=batch_size)\n",
        "\n",
        "for X, y in test_dataloader:\n",
        "    print(f\"Shape of X [N, C, H, W]: {X.shape}\")\n",
        "    print(f\"Shape of y: {y.shape} {y.dtype}\")\n",
        "    break"
      ],
      "metadata": {
        "colab": {
          "base_uri": "https://localhost:8080/"
        },
        "id": "YHYe76cRx8wA",
        "outputId": "ebc927df-a9e5-4e48-8a9b-5f1196032b74"
      },
      "execution_count": 4,
      "outputs": [
        {
          "output_type": "stream",
          "name": "stdout",
          "text": [
            "Shape of X [N, C, H, W]: torch.Size([64, 1, 28, 28])\n",
            "Shape of y: torch.Size([64]) torch.int64\n"
          ]
        }
      ]
    },
    {
      "cell_type": "markdown",
      "source": [
        "### Creating Models\n",
        "\n",
        "To create a neural network in PyTorch, we create a class that inherits from `nn.Module`. We define the layers of the network in the `__init__` function and then specify how data will pass through the network in the `forward` function. In order to accelerate operations in the neural network, we move it to the GPU or MPU if available."
      ],
      "metadata": {
        "id": "v4TdCRQX0-3B"
      }
    },
    {
      "cell_type": "code",
      "source": [
        "# Get cpu, gpu, or mps device for training.\n",
        "device = (\n",
        "    \"cuda\"\n",
        "    if torch.cuda.is_available()\n",
        "    else \"mps\"\n",
        "    if torch.backends.mps.is_available()\n",
        "    else \"cpu\"\n",
        ")\n",
        "\n",
        "print(f\"Using {device} device\")"
      ],
      "metadata": {
        "colab": {
          "base_uri": "https://localhost:8080/"
        },
        "id": "KL4hrmHj0RJs",
        "outputId": "a61bf993-c4df-4d91-b501-e4b4f9058882"
      },
      "execution_count": 5,
      "outputs": [
        {
          "output_type": "stream",
          "name": "stdout",
          "text": [
            "Using cuda device\n"
          ]
        }
      ]
    },
    {
      "cell_type": "code",
      "source": [
        "# Define model\n",
        "class NeuralNetwork(nn.Module):\n",
        "    def __init__(self):\n",
        "        super().__init__()\n",
        "        self.flatten = nn.Flatten()\n",
        "        self.linear_relu_stack = nn.Sequential(\n",
        "            nn.Linear(28 * 28, 512),\n",
        "            nn.ReLU(),\n",
        "            nn.Linear(512, 512),\n",
        "            nn.ReLU(),\n",
        "            nn.Linear(512, 10),\n",
        "        )\n",
        "\n",
        "    def forward(self, x):\n",
        "        x = self.flatten(x)\n",
        "        logits = self.linear_relu_stack(x)\n",
        "        return logits\n",
        "\n",
        "model = NeuralNetwork().to(device)\n",
        "print(model)"
      ],
      "metadata": {
        "colab": {
          "base_uri": "https://localhost:8080/"
        },
        "id": "bj5ddGP92uoX",
        "outputId": "6e7efd0e-1169-4d7e-c8a7-3b9a447fff4c"
      },
      "execution_count": 6,
      "outputs": [
        {
          "output_type": "stream",
          "name": "stdout",
          "text": [
            "NeuralNetwork(\n",
            "  (flatten): Flatten(start_dim=1, end_dim=-1)\n",
            "  (linear_relu_stack): Sequential(\n",
            "    (0): Linear(in_features=784, out_features=512, bias=True)\n",
            "    (1): ReLU()\n",
            "    (2): Linear(in_features=512, out_features=512, bias=True)\n",
            "    (3): ReLU()\n",
            "    (4): Linear(in_features=512, out_features=10, bias=True)\n",
            "  )\n",
            ")\n"
          ]
        }
      ]
    },
    {
      "cell_type": "markdown",
      "source": [
        "### Optimizing the model parameters\n",
        "\n",
        "To train a model, we need a `loss function` and an `optimizer`."
      ],
      "metadata": {
        "id": "zD9Jfjpa0-6Z"
      }
    },
    {
      "cell_type": "code",
      "source": [
        "loss_fn = nn.CrossEntropyLoss()\n",
        "optimizer = torch.optim.SGD(model.parameters(), lr=1e-3)"
      ],
      "metadata": {
        "id": "IdS6kIbh4NvZ"
      },
      "execution_count": 7,
      "outputs": []
    },
    {
      "cell_type": "markdown",
      "source": [
        "In a single training loop, the model makes prediction on the training dataset (fed to it in batches), and backpropagates the prediction error to adjust the model's parameters."
      ],
      "metadata": {
        "id": "JNRot-eQ5iKC"
      }
    },
    {
      "cell_type": "code",
      "source": [
        "def train(dataloader, model, loss_fn, optimizer):\n",
        "    size = len(dataloader.dataset)\n",
        "    model.train()\n",
        "\n",
        "    for batch, (X, y) in enumerate(dataloader):\n",
        "        X, y = X.to(device), y.to(device)\n",
        "\n",
        "        # Compute prediction error\n",
        "        pred = model(X)\n",
        "        loss = loss_fn(pred, y)\n",
        "\n",
        "        # Backpropagation\n",
        "        loss.backward()\n",
        "        optimizer.step()\n",
        "        optimizer.zero_grad()\n",
        "\n",
        "        if batch % 100 == 0:\n",
        "            loss, current = loss.item(), batch * len(X)\n",
        "            print(f\"loss: {loss:>7f}  [{current:>5d}/{size:>5d}]\")"
      ],
      "metadata": {
        "id": "PYpCHXCi4qLZ"
      },
      "execution_count": 8,
      "outputs": []
    },
    {
      "cell_type": "markdown",
      "source": [
        "We also check the model's performance against the test dataset to ensure that the model is actually learning."
      ],
      "metadata": {
        "id": "xNSlz1uZ7Yka"
      }
    },
    {
      "cell_type": "code",
      "source": [
        "def test(dataloader, model, loss_fn):\n",
        "  size = len(dataloader.dataset)\n",
        "  num_batches = len(dataloader)\n",
        "  model.eval()\n",
        "\n",
        "  test_loss, correct = 0, 0\n",
        "\n",
        "  with torch.no_grad():\n",
        "    for X, y in dataloader:\n",
        "      X, y = X.to(device), y.to(device)\n",
        "      pred = model(X)\n",
        "      test_loss += loss_fn(pred, y).item()\n",
        "      correct += (pred.argmax(1) == y).type(torch.float).sum().item()\n",
        "\n",
        "  test_loss /= num_batches\n",
        "  correct /= size\n",
        "  print(f\"Test Error: \\n Accuracy: {(100*correct):>0.1f}%, Avg loss: {test_loss:>8f} \\n\")"
      ],
      "metadata": {
        "id": "NvZR2w0y7RKo"
      },
      "execution_count": 11,
      "outputs": []
    },
    {
      "cell_type": "markdown",
      "source": [
        "The training process is conducted over several iterations (epochs). During each epoch, the model learns parameters to make better predictions. We print the model's accuracy and loss at each epoch; we'd like to see the accuracy increase and the loss decrease with every epoch."
      ],
      "metadata": {
        "id": "nq5Kp8Sk8woB"
      }
    },
    {
      "cell_type": "code",
      "source": [
        "epochs = 5\n",
        "for t in range(epochs):\n",
        "  print(f\"Epoch {t+1}\\n-------------------------------\")\n",
        "  train(train_dataloader, model, loss_fn, optimizer)\n",
        "  test(test_dataloader, model, loss_fn)\n",
        "print(\"Done!\")"
      ],
      "metadata": {
        "colab": {
          "base_uri": "https://localhost:8080/"
        },
        "id": "wQzNP4Zw8v4K",
        "outputId": "779ebf4c-fe92-4a6f-8648-1890db4f2f68"
      },
      "execution_count": 12,
      "outputs": [
        {
          "output_type": "stream",
          "name": "stdout",
          "text": [
            "Epoch 1\n",
            "-------------------------------\n",
            "loss: 2.173894  [    0/60000]\n",
            "loss: 2.159714  [ 6400/60000]\n",
            "loss: 2.107666  [12800/60000]\n",
            "loss: 2.128518  [19200/60000]\n",
            "loss: 2.071312  [25600/60000]\n",
            "loss: 2.022725  [32000/60000]\n",
            "loss: 2.047586  [38400/60000]\n",
            "loss: 1.969570  [44800/60000]\n",
            "loss: 1.976703  [51200/60000]\n",
            "loss: 1.913010  [57600/60000]\n",
            "Test Error: \n",
            " Accuracy: 57.9%, Avg loss: 1.904414 \n",
            "\n",
            "Epoch 2\n",
            "-------------------------------\n",
            "loss: 1.939125  [    0/60000]\n",
            "loss: 1.900994  [ 6400/60000]\n",
            "loss: 1.790372  [12800/60000]\n",
            "loss: 1.836468  [19200/60000]\n",
            "loss: 1.720502  [25600/60000]\n",
            "loss: 1.683092  [32000/60000]\n",
            "loss: 1.705800  [38400/60000]\n",
            "loss: 1.600963  [44800/60000]\n",
            "loss: 1.626991  [51200/60000]\n",
            "loss: 1.524796  [57600/60000]\n",
            "Test Error: \n",
            " Accuracy: 61.2%, Avg loss: 1.535881 \n",
            "\n",
            "Epoch 3\n",
            "-------------------------------\n",
            "loss: 1.604806  [    0/60000]\n",
            "loss: 1.559010  [ 6400/60000]\n",
            "loss: 1.412096  [12800/60000]\n",
            "loss: 1.490649  [19200/60000]\n",
            "loss: 1.366406  [25600/60000]\n",
            "loss: 1.366222  [32000/60000]\n",
            "loss: 1.383837  [38400/60000]\n",
            "loss: 1.298219  [44800/60000]\n",
            "loss: 1.334219  [51200/60000]\n",
            "loss: 1.235370  [57600/60000]\n",
            "Test Error: \n",
            " Accuracy: 63.6%, Avg loss: 1.258198 \n",
            "\n",
            "Epoch 4\n",
            "-------------------------------\n",
            "loss: 1.337338  [    0/60000]\n",
            "loss: 1.306548  [ 6400/60000]\n",
            "loss: 1.144924  [12800/60000]\n",
            "loss: 1.259674  [19200/60000]\n",
            "loss: 1.132945  [25600/60000]\n",
            "loss: 1.157489  [32000/60000]\n",
            "loss: 1.183064  [38400/60000]\n",
            "loss: 1.109511  [44800/60000]\n",
            "loss: 1.150604  [51200/60000]\n",
            "loss: 1.066362  [57600/60000]\n",
            "Test Error: \n",
            " Accuracy: 64.8%, Avg loss: 1.085990 \n",
            "\n",
            "Epoch 5\n",
            "-------------------------------\n",
            "loss: 1.158219  [    0/60000]\n",
            "loss: 1.145725  [ 6400/60000]\n",
            "loss: 0.970045  [12800/60000]\n",
            "loss: 1.116704  [19200/60000]\n",
            "loss: 0.989138  [25600/60000]\n",
            "loss: 1.020216  [32000/60000]\n",
            "loss: 1.059852  [38400/60000]\n",
            "loss: 0.990751  [44800/60000]\n",
            "loss: 1.033430  [51200/60000]\n",
            "loss: 0.962828  [57600/60000]\n",
            "Test Error: \n",
            " Accuracy: 65.7%, Avg loss: 0.977012 \n",
            "\n",
            "Done!\n"
          ]
        }
      ]
    },
    {
      "cell_type": "markdown",
      "source": [
        "Let's experiment to see how more epoch influences the model's accuracy."
      ],
      "metadata": {
        "id": "AQZHEaE2-Dbi"
      }
    },
    {
      "cell_type": "code",
      "source": [
        "epochs = 10\n",
        "for t in range(epochs):\n",
        "  print(f\"Epoch {t+1}\\n-------------------------------\")\n",
        "  train(train_dataloader, model, loss_fn, optimizer)\n",
        "  test(test_dataloader, model, loss_fn)"
      ],
      "metadata": {
        "colab": {
          "base_uri": "https://localhost:8080/"
        },
        "id": "eEYhe8D69xaX",
        "outputId": "c77ecac5-0304-4cd9-fd4d-4fd08dba7057"
      },
      "execution_count": 13,
      "outputs": [
        {
          "output_type": "stream",
          "name": "stdout",
          "text": [
            "Epoch 1\n",
            "-------------------------------\n",
            "loss: 1.035970  [    0/60000]\n",
            "loss: 1.042771  [ 6400/60000]\n",
            "loss: 0.852580  [12800/60000]\n",
            "loss: 1.022548  [19200/60000]\n",
            "loss: 0.899437  [25600/60000]\n",
            "loss: 0.926473  [32000/60000]\n",
            "loss: 0.979976  [38400/60000]\n",
            "loss: 0.915111  [44800/60000]\n",
            "loss: 0.954139  [51200/60000]\n",
            "loss: 0.895326  [57600/60000]\n",
            "Test Error: \n",
            " Accuracy: 66.8%, Avg loss: 0.904563 \n",
            "\n",
            "Epoch 2\n",
            "-------------------------------\n",
            "loss: 0.947776  [    0/60000]\n",
            "loss: 0.973231  [ 6400/60000]\n",
            "loss: 0.770880  [12800/60000]\n",
            "loss: 0.957445  [19200/60000]\n",
            "loss: 0.840746  [25600/60000]\n",
            "loss: 0.860068  [32000/60000]\n",
            "loss: 0.924568  [38400/60000]\n",
            "loss: 0.865762  [44800/60000]\n",
            "loss: 0.898522  [51200/60000]\n",
            "loss: 0.848508  [57600/60000]\n",
            "Test Error: \n",
            " Accuracy: 68.0%, Avg loss: 0.853835 \n",
            "\n",
            "Epoch 3\n",
            "-------------------------------\n",
            "loss: 0.881508  [    0/60000]\n",
            "loss: 0.923009  [ 6400/60000]\n",
            "loss: 0.711443  [12800/60000]\n",
            "loss: 0.910252  [19200/60000]\n",
            "loss: 0.799952  [25600/60000]\n",
            "loss: 0.811469  [32000/60000]\n",
            "loss: 0.883387  [38400/60000]\n",
            "loss: 0.832186  [44800/60000]\n",
            "loss: 0.857508  [51200/60000]\n",
            "loss: 0.813812  [57600/60000]\n",
            "Test Error: \n",
            " Accuracy: 69.0%, Avg loss: 0.816108 \n",
            "\n",
            "Epoch 4\n",
            "-------------------------------\n",
            "loss: 0.829254  [    0/60000]\n",
            "loss: 0.883980  [ 6400/60000]\n",
            "loss: 0.666377  [12800/60000]\n",
            "loss: 0.874401  [19200/60000]\n",
            "loss: 0.769415  [25600/60000]\n",
            "loss: 0.774744  [32000/60000]\n",
            "loss: 0.850325  [38400/60000]\n",
            "loss: 0.807960  [44800/60000]\n",
            "loss: 0.825861  [51200/60000]\n",
            "loss: 0.786431  [57600/60000]\n",
            "Test Error: \n",
            " Accuracy: 70.3%, Avg loss: 0.786392 \n",
            "\n",
            "Epoch 5\n",
            "-------------------------------\n",
            "loss: 0.786300  [    0/60000]\n",
            "loss: 0.851799  [ 6400/60000]\n",
            "loss: 0.630614  [12800/60000]\n",
            "loss: 0.845917  [19200/60000]\n",
            "loss: 0.744877  [25600/60000]\n",
            "loss: 0.745936  [32000/60000]\n",
            "loss: 0.822112  [38400/60000]\n",
            "loss: 0.788896  [44800/60000]\n",
            "loss: 0.800300  [51200/60000]\n",
            "loss: 0.763443  [57600/60000]\n",
            "Test Error: \n",
            " Accuracy: 71.7%, Avg loss: 0.761721 \n",
            "\n",
            "Epoch 6\n",
            "-------------------------------\n",
            "loss: 0.749761  [    0/60000]\n",
            "loss: 0.823913  [ 6400/60000]\n",
            "loss: 0.601031  [12800/60000]\n",
            "loss: 0.822376  [19200/60000]\n",
            "loss: 0.724180  [25600/60000]\n",
            "loss: 0.722455  [32000/60000]\n",
            "loss: 0.797084  [38400/60000]\n",
            "loss: 0.772705  [44800/60000]\n",
            "loss: 0.778699  [51200/60000]\n",
            "loss: 0.743309  [57600/60000]\n",
            "Test Error: \n",
            " Accuracy: 72.8%, Avg loss: 0.740337 \n",
            "\n",
            "Epoch 7\n",
            "-------------------------------\n",
            "loss: 0.717924  [    0/60000]\n",
            "loss: 0.798826  [ 6400/60000]\n",
            "loss: 0.575699  [12800/60000]\n",
            "loss: 0.802318  [19200/60000]\n",
            "loss: 0.706150  [25600/60000]\n",
            "loss: 0.702950  [32000/60000]\n",
            "loss: 0.774376  [38400/60000]\n",
            "loss: 0.758334  [44800/60000]\n",
            "loss: 0.759803  [51200/60000]\n",
            "loss: 0.725209  [57600/60000]\n",
            "Test Error: \n",
            " Accuracy: 73.8%, Avg loss: 0.721218 \n",
            "\n",
            "Epoch 8\n",
            "-------------------------------\n",
            "loss: 0.689678  [    0/60000]\n",
            "loss: 0.775728  [ 6400/60000]\n",
            "loss: 0.553513  [12800/60000]\n",
            "loss: 0.784804  [19200/60000]\n",
            "loss: 0.690122  [25600/60000]\n",
            "loss: 0.686233  [32000/60000]\n",
            "loss: 0.753342  [38400/60000]\n",
            "loss: 0.745120  [44800/60000]\n",
            "loss: 0.743037  [51200/60000]\n",
            "loss: 0.708716  [57600/60000]\n",
            "Test Error: \n",
            " Accuracy: 74.8%, Avg loss: 0.703789 \n",
            "\n",
            "Epoch 9\n",
            "-------------------------------\n",
            "loss: 0.664086  [    0/60000]\n",
            "loss: 0.754352  [ 6400/60000]\n",
            "loss: 0.533824  [12800/60000]\n",
            "loss: 0.769284  [19200/60000]\n",
            "loss: 0.675891  [25600/60000]\n",
            "loss: 0.671754  [32000/60000]\n",
            "loss: 0.733810  [38400/60000]\n",
            "loss: 0.733008  [44800/60000]\n",
            "loss: 0.728039  [51200/60000]\n",
            "loss: 0.693467  [57600/60000]\n",
            "Test Error: \n",
            " Accuracy: 75.6%, Avg loss: 0.687740 \n",
            "\n",
            "Epoch 10\n",
            "-------------------------------\n",
            "loss: 0.640861  [    0/60000]\n",
            "loss: 0.734405  [ 6400/60000]\n",
            "loss: 0.516172  [12800/60000]\n",
            "loss: 0.755172  [19200/60000]\n",
            "loss: 0.663103  [25600/60000]\n",
            "loss: 0.659098  [32000/60000]\n",
            "loss: 0.715553  [38400/60000]\n",
            "loss: 0.721875  [44800/60000]\n",
            "loss: 0.714536  [51200/60000]\n",
            "loss: 0.679242  [57600/60000]\n",
            "Test Error: \n",
            " Accuracy: 76.6%, Avg loss: 0.672887 \n",
            "\n"
          ]
        }
      ]
    },
    {
      "cell_type": "markdown",
      "source": [
        "### Saving Models\n",
        "\n",
        "A common way to save a model is to serialize the internal state dictionary (containing the model parameters)."
      ],
      "metadata": {
        "id": "i8rQo8GV-6Pa"
      }
    },
    {
      "cell_type": "code",
      "source": [
        "torch.save(model.state_dict(), \"model.pth\")\n",
        "print(\"Saved PyTorch Model State to model.pth\")"
      ],
      "metadata": {
        "colab": {
          "base_uri": "https://localhost:8080/"
        },
        "id": "y4UfcOGi-SMJ",
        "outputId": "c50ae477-d535-4c31-b6f7-673b695b0f08"
      },
      "execution_count": 14,
      "outputs": [
        {
          "output_type": "stream",
          "name": "stdout",
          "text": [
            "Saved PyTorch Model State to model.pth\n"
          ]
        }
      ]
    },
    {
      "cell_type": "markdown",
      "source": [
        "### Loading Models\n",
        "\n",
        "The process for loading a model involves re-creating the model structure and loading the state dictionary into it."
      ],
      "metadata": {
        "id": "LtgnTuGM_PEJ"
      }
    },
    {
      "cell_type": "code",
      "source": [
        "model = NeuralNetwork().to(device)\n",
        "model.load_state_dict(torch.load(\"model.pth\"))"
      ],
      "metadata": {
        "colab": {
          "base_uri": "https://localhost:8080/"
        },
        "id": "iVvXMxma_M9A",
        "outputId": "1c747740-aacc-4d55-f260-46e12274994b"
      },
      "execution_count": 15,
      "outputs": [
        {
          "output_type": "execute_result",
          "data": {
            "text/plain": [
              "<All keys matched successfully>"
            ]
          },
          "metadata": {},
          "execution_count": 15
        }
      ]
    },
    {
      "cell_type": "markdown",
      "source": [
        "The model can now be used to make predictions."
      ],
      "metadata": {
        "id": "TzNb_TgF_vda"
      }
    },
    {
      "cell_type": "code",
      "source": [
        "classes = [\n",
        "    \"T-shirt/top\",\n",
        "    \"Trouser\",\n",
        "    \"Pullover\",\n",
        "    \"Dress\",\n",
        "    \"Coat\",\n",
        "    \"Sandal\",\n",
        "    \"Shirt\",\n",
        "    \"Sneaker\",\n",
        "    \"Bag\",\n",
        "    \"Ankle boot\",\n",
        "]"
      ],
      "metadata": {
        "id": "fnRQxOpW_oq3"
      },
      "execution_count": 17,
      "outputs": []
    },
    {
      "cell_type": "code",
      "source": [
        "model.eval()\n",
        "x, y = test_data[0][0], test_data[0][1]\n",
        "with torch.no_grad():\n",
        "    x = x.to(device)\n",
        "    pred = model(x)\n",
        "    predicted, actual = classes[pred[0].argmax(0)], classes[y]\n",
        "    print(f'Predicted: \"{predicted}\", Actual: \"{actual}\"')"
      ],
      "metadata": {
        "colab": {
          "base_uri": "https://localhost:8080/"
        },
        "id": "7P4Di-ET_4UF",
        "outputId": "1ff7f637-3ca0-4c46-98f6-2f5041e39fe1"
      },
      "execution_count": 18,
      "outputs": [
        {
          "output_type": "stream",
          "name": "stdout",
          "text": [
            "Predicted: \"Ankle boot\", Actual: \"Ankle boot\"\n"
          ]
        }
      ]
    },
    {
      "cell_type": "code",
      "source": [],
      "metadata": {
        "id": "1PXgXaHo_9vX"
      },
      "execution_count": null,
      "outputs": []
    }
  ]
}